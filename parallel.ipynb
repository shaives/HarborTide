{
 "cells": [
  {
   "cell_type": "code",
   "execution_count": null,
   "metadata": {},
   "outputs": [],
   "source": [
    "#https://www.kdnuggets.com/2022/07/parallel-processing-large-file-python.html"
   ]
  },
  {
   "cell_type": "code",
   "execution_count": null,
   "metadata": {},
   "outputs": [],
   "source": [
    "# Parallel Computing\n",
    "import multiprocessing as mp\n",
    "from joblib import Parallel, delayed\n",
    "from tqdm.notebook import tqdm\n",
    "import pandas as pd\n",
    "import time\n",
    "import os\n",
    "import gzip"
   ]
  },
  {
   "cell_type": "code",
   "execution_count": null,
   "metadata": {},
   "outputs": [],
   "source": [
    "n_workers = mp.cpu_count()\n",
    "\n",
    "print(f\"{n_workers} workers are available\")"
   ]
  },
  {
   "cell_type": "code",
   "execution_count": null,
   "metadata": {},
   "outputs": [],
   "source": [
    "%%time\n",
    "\n",
    "files = os.listdir('./data/tide_sensors/.')\n",
    "file = files[0]\n",
    "df = pd.read_csv('./data/tide_sensors/' + file, skiprows=10, sep='\\t', header=None, usecols=[0,1])\n",
    "df.columns = ['datetime [ISO8601]', 'water level [m]']\n",
    "#df['datetime [ISO8601]'] = pd.to_datetime(df['datetime [ISO8601]'], format='ISO8601')\n",
    "\n",
    "print(f\"Shape:{df.shape}\\n\\nColumn Names:\\n{df.columns}\\n\")"
   ]
  },
  {
   "cell_type": "code",
   "execution_count": 5,
   "metadata": {},
   "outputs": [],
   "source": [
    "%%time\n",
    "p = mp.Pool(n_workers) \n",
    "\n",
    "def clean_text(value):\n",
    "    value = pd.to_datetime(value, format='ISO8601')\n",
    "\n",
    "print('Cleaning text...')\n",
    "p.map(clean_text, df['datetime [ISO8601]'])\n",
    "\n",
    "df.info()\n",
    "\n",
    "print('Done!')"
   ]
  },
  {
   "cell_type": "code",
   "execution_count": 7,
   "metadata": {},
   "outputs": [],
   "source": [
    "import pandas as pd\n",
    "import multiprocessing\n",
    "\n",
    "# Create a DataFrame\n",
    "df = pd.DataFrame({'A': [1, 2, 3, 4, 5],\n",
    "                   'B': [6, 7, 8, 9, 10]})\n",
    "\n",
    "# Define a function to be applied to each row\n",
    "def process_row(row):\n",
    "    # Process the row here\n",
    "    return row\n",
    "\n",
    "# Set up multiprocessing\n",
    "pool = multiprocessing.Pool()\n",
    "\n",
    "# Apply the function to each row in parallel\n",
    "result = pool.map(process_row, df)\n",
    "\n",
    "# Convert the result back to a DataFrame\n",
    "result_df = pd.DataFrame(result, columns=df.columns)\n",
    "\n",
    "# Close the multiprocessing pool\n",
    "pool.close()"
   ]
  },
  {
   "cell_type": "code",
   "execution_count": null,
   "metadata": {},
   "outputs": [],
   "source": []
  }
 ],
 "metadata": {
  "kernelspec": {
   "display_name": "base",
   "language": "python",
   "name": "python3"
  },
  "language_info": {
   "codemirror_mode": {
    "name": "ipython",
    "version": 3
   },
   "file_extension": ".py",
   "mimetype": "text/x-python",
   "name": "python",
   "nbconvert_exporter": "python",
   "pygments_lexer": "ipython3",
   "version": "3.11.7"
  }
 },
 "nbformat": 4,
 "nbformat_minor": 2
}
